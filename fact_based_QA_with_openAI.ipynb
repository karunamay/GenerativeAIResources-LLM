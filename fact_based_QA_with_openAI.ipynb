{
 "cells": [
  {
   "cell_type": "code",
   "execution_count": 7,
   "id": "3e1466b8",
   "metadata": {},
   "outputs": [],
   "source": [
    "import numpy as np\n",
    "import openai\n",
    "import pandas as pd\n",
    "import pickle\n",
    "import tiktoken\n",
    "COMPLETIONS_MODEL = \"text-davinci-003\"\n",
    "EMBEDDING_MODEL = \"text-embedding-ada-002\"\n",
    "openai.api_key = 'XXXXXXXXXXXXXXXXXX'"
   ]
  },
  {
   "cell_type": "markdown",
   "id": "24225b4d",
   "metadata": {},
   "source": [
    "### Reading open source data - from openai"
   ]
  },
  {
   "cell_type": "code",
   "execution_count": 16,
   "id": "35e2124a",
   "metadata": {},
   "outputs": [
    {
     "name": "stdout",
     "output_type": "stream",
     "text": [
      "3964 rows in the data.\n"
     ]
    },
    {
     "data": {
      "text/html": [
       "<div>\n",
       "<style scoped>\n",
       "    .dataframe tbody tr th:only-of-type {\n",
       "        vertical-align: middle;\n",
       "    }\n",
       "\n",
       "    .dataframe tbody tr th {\n",
       "        vertical-align: top;\n",
       "    }\n",
       "\n",
       "    .dataframe thead th {\n",
       "        text-align: right;\n",
       "    }\n",
       "</style>\n",
       "<table border=\"1\" class=\"dataframe\">\n",
       "  <thead>\n",
       "    <tr style=\"text-align: right;\">\n",
       "      <th></th>\n",
       "      <th></th>\n",
       "      <th>content</th>\n",
       "      <th>tokens</th>\n",
       "    </tr>\n",
       "    <tr>\n",
       "      <th>title</th>\n",
       "      <th>heading</th>\n",
       "      <th></th>\n",
       "      <th></th>\n",
       "    </tr>\n",
       "  </thead>\n",
       "  <tbody>\n",
       "    <tr>\n",
       "      <th>Argentina at the 2020 Summer Olympics</th>\n",
       "      <th>Artistic</th>\n",
       "      <td>Argentina at the 2020 Summer Olympics Artistic...</td>\n",
       "      <td>129</td>\n",
       "    </tr>\n",
       "    <tr>\n",
       "      <th>2020 CONCACAF Women's Olympic Qualifying Championship qualification</th>\n",
       "      <th>Caribbean</th>\n",
       "      <td>2020 CONCACAF Women's Olympic Qualifying Champ...</td>\n",
       "      <td>47</td>\n",
       "    </tr>\n",
       "    <tr>\n",
       "      <th>Field hockey at the 2020 Summer Olympics – Men's qualification</th>\n",
       "      <th>Olympic qualifying events</th>\n",
       "      <td>Field hockey at the 2020 Summer Olympics – Men...</td>\n",
       "      <td>86</td>\n",
       "    </tr>\n",
       "    <tr>\n",
       "      <th>2020 CAF Women's Olympic Qualifying Tournament</th>\n",
       "      <th>Third round</th>\n",
       "      <td>2020 CAF Women's Olympic Qualifying Tournament...</td>\n",
       "      <td>51</td>\n",
       "    </tr>\n",
       "    <tr>\n",
       "      <th>Fencing at the 2020 Summer Olympics – Women's team sabre</th>\n",
       "      <th>Background</th>\n",
       "      <td>Fencing at the 2020 Summer Olympics – Women's ...</td>\n",
       "      <td>177</td>\n",
       "    </tr>\n",
       "  </tbody>\n",
       "</table>\n",
       "</div>"
      ],
      "text/plain": [
       "                                                                                                                        content  \\\n",
       "title                                              heading                                                                        \n",
       "Argentina at the 2020 Summer Olympics              Artistic                   Argentina at the 2020 Summer Olympics Artistic...   \n",
       "2020 CONCACAF Women's Olympic Qualifying Champi... Caribbean                  2020 CONCACAF Women's Olympic Qualifying Champ...   \n",
       "Field hockey at the 2020 Summer Olympics – Men'... Olympic qualifying events  Field hockey at the 2020 Summer Olympics – Men...   \n",
       "2020 CAF Women's Olympic Qualifying Tournament     Third round                2020 CAF Women's Olympic Qualifying Tournament...   \n",
       "Fencing at the 2020 Summer Olympics – Women's t... Background                 Fencing at the 2020 Summer Olympics – Women's ...   \n",
       "\n",
       "                                                                              tokens  \n",
       "title                                              heading                            \n",
       "Argentina at the 2020 Summer Olympics              Artistic                      129  \n",
       "2020 CONCACAF Women's Olympic Qualifying Champi... Caribbean                      47  \n",
       "Field hockey at the 2020 Summer Olympics – Men'... Olympic qualifying events      86  \n",
       "2020 CAF Women's Olympic Qualifying Tournament     Third round                    51  \n",
       "Fencing at the 2020 Summer Olympics – Women's t... Background                    177  "
      ]
     },
     "execution_count": 16,
     "metadata": {},
     "output_type": "execute_result"
    }
   ],
   "source": [
    "df = pd.read_csv('https://cdn.openai.com/API/examples/data/olympics_sections_text.csv')\n",
    "df['content']=df['title']+' '+df['heading']+ ' '+df['content']\n",
    "df = df.set_index([\"title\", \"heading\"])\n",
    "print(f\"{len(df)} rows in the data.\")\n",
    "df.sample(5)"
   ]
  },
  {
   "cell_type": "markdown",
   "id": "03a48911",
   "metadata": {},
   "source": [
    "### Getting embeddings"
   ]
  },
  {
   "cell_type": "code",
   "execution_count": 9,
   "id": "4e20daea",
   "metadata": {},
   "outputs": [],
   "source": [
    "def get_embedding(text: str, model: str=EMBEDDING_MODEL) -> list[float]:\n",
    "    result = openai.Embedding.create(\n",
    "      model=model,\n",
    "      input=text\n",
    "    )\n",
    "    return result[\"data\"][0][\"embedding\"]\n",
    "\n",
    "def compute_doc_embeddings(df: pd.DataFrame) -> dict[tuple[str, str], list[float]]:\n",
    "    \"\"\"\n",
    "    \n",
    "    Return a dictionary that maps between each embedding vector and the index of the row that it corresponds to.\n",
    "    \"\"\"\n",
    "    return {\n",
    "        idx: get_embedding(r.content) for idx, r in df.iterrows()\n",
    "    }"
   ]
  },
  {
   "cell_type": "code",
   "execution_count": 17,
   "id": "83f5ac34",
   "metadata": {},
   "outputs": [],
   "source": [
    "document_embeddings = compute_doc_embeddings(df.head(100))"
   ]
  },
  {
   "cell_type": "markdown",
   "id": "83eed18d",
   "metadata": {},
   "source": [
    "### We could directly use the dataframe for QA, but because of the token limitations for the LLMs, we have to first get a most relevant context based on the question from the given dataframe,and then pass that with question in the formatted prompt to get the desired answer."
   ]
  },
  {
   "cell_type": "code",
   "execution_count": 10,
   "id": "53f38576",
   "metadata": {},
   "outputs": [],
   "source": [
    "def vector_similarity(x: list[float], y: list[float]) -> float:\n",
    "    \"\"\"\n",
    "    Returns the similarity between two vectors.\n",
    "    \n",
    "    Because OpenAI Embeddings are normalized to length 1, the cosine similarity is the same as the dot product.\n",
    "    \"\"\"\n",
    "    return np.dot(np.array(x), np.array(y))\n",
    "\n",
    "def order_document_sections_by_query_similarity(query: str, contexts: dict[(str, str), np.array]) -> list[(float, (str, str))]:\n",
    "    \"\"\"\n",
    "    Find the query embedding for the supplied query, and compare it against all of the pre-calculated document embeddings\n",
    "    to find the most relevant sections. \n",
    "    \n",
    "    Return the list of document sections, sorted by relevance in descending order.\n",
    "    \"\"\"\n",
    "    query_embedding = get_embedding(query)\n",
    "    \n",
    "    document_similarities = sorted([\n",
    "        (vector_similarity(query_embedding, doc_embedding), doc_index) for doc_index, doc_embedding in contexts.items()\n",
    "    ], reverse=True)\n",
    "    \n",
    "    return document_similarities"
   ]
  },
  {
   "cell_type": "code",
   "execution_count": 11,
   "id": "952aef03",
   "metadata": {},
   "outputs": [],
   "source": [
    "#Configs\n",
    "MAX_SECTION_LEN = 500\n",
    "SEPARATOR = \"\\n* \"\n",
    "ENCODING = \"gpt2\"  # encoding for text-davinci-003\n",
    "\n",
    "encoding = tiktoken.get_encoding(ENCODING)\n",
    "separator_len = len(encoding.encode(SEPARATOR))\n",
    "\n",
    "COMPLETIONS_API_PARAMS = {\n",
    "    # We use temperature of 0.0 because it gives the most predictable, factual answer.\n",
    "    \"temperature\": 0.0,\n",
    "    \"max_tokens\": 300,\n",
    "    \"model\": COMPLETIONS_MODEL,\n",
    "}"
   ]
  },
  {
   "cell_type": "markdown",
   "id": "41f3f90b",
   "metadata": {},
   "source": [
    "### Formatted prompt creation"
   ]
  },
  {
   "cell_type": "code",
   "execution_count": 12,
   "id": "b000ced7",
   "metadata": {},
   "outputs": [],
   "source": [
    "def construct_prompt(question: str, context_embeddings: dict, df: pd.DataFrame) -> str:\n",
    "    \"\"\"\n",
    "    Fetch relevant \n",
    "    \"\"\"\n",
    "    most_relevant_document_sections = order_document_sections_by_query_similarity(question, context_embeddings)\n",
    "    \n",
    "    chosen_sections = []\n",
    "    chosen_sections_len = 0\n",
    "    chosen_sections_indexes = []\n",
    "     \n",
    "    for _, section_index in most_relevant_document_sections:\n",
    "        # Add contexts until we run out of space.        \n",
    "        document_section = df.loc[section_index]\n",
    "        \n",
    "        chosen_sections_len += document_section.tokens + separator_len\n",
    "        if chosen_sections_len > MAX_SECTION_LEN:\n",
    "            break\n",
    "            \n",
    "        chosen_sections.append(SEPARATOR + document_section.content.replace(\"\\n\", \" \"))\n",
    "        chosen_sections_indexes.append(str(section_index))\n",
    "            \n",
    "    # Useful diagnostic information\n",
    "    print(f\"Selected {len(chosen_sections)} document sections:\")\n",
    "    print(\"\\n\".join(chosen_sections_indexes))\n",
    "    \n",
    "    header = \"\"\"Answer the question as truthfully as possible using the provided context, and if the answer is not contained within the text below, say \"I don't know.\"\\n\\nContext:\\n\"\"\"\n",
    "    \n",
    "    return header + \"\".join(chosen_sections) + \"\\n\\n Q: \" + question + \"\\n A:\""
   ]
  },
  {
   "cell_type": "markdown",
   "id": "9644cf5b",
   "metadata": {},
   "source": [
    "### Getting desired answer "
   ]
  },
  {
   "cell_type": "code",
   "execution_count": 13,
   "id": "e89f8a00",
   "metadata": {},
   "outputs": [],
   "source": [
    "def answer_query_with_context(\n",
    "    query: str,\n",
    "    df: pd.DataFrame,\n",
    "    document_embeddings: dict[(str, str), np.array],\n",
    "    show_prompt: bool = False\n",
    ") -> str:\n",
    "    prompt = construct_prompt(\n",
    "        query,\n",
    "        document_embeddings,\n",
    "        df\n",
    "    )\n",
    "    \n",
    "    if show_prompt:\n",
    "        print(prompt)\n",
    "\n",
    "    response = openai.Completion.create(\n",
    "                prompt=prompt,\n",
    "                **COMPLETIONS_API_PARAMS\n",
    "            )\n",
    "\n",
    "    return response[\"choices\"][0][\"text\"].strip(\" \\n\")"
   ]
  },
  {
   "cell_type": "code",
   "execution_count": 20,
   "id": "58c67f97",
   "metadata": {},
   "outputs": [
    {
     "name": "stdout",
     "output_type": "stream",
     "text": [
      "Selected 1 document sections:\n",
      "('2020 Summer Olympics', 'Impact of the COVID-19 pandemic')\n"
     ]
    },
    {
     "data": {
      "text/plain": [
       "'The 2020 Summer Olympics was originally postponed due to concerns about the potential impact of the COVID-19 pandemic on athletes and visitors to the Olympic Games.'"
      ]
     },
     "execution_count": 20,
     "metadata": {},
     "output_type": "execute_result"
    }
   ],
   "source": [
    "answer_query_with_context(\"Why was the 2020 Summer Olympics originally postponed?\", df, document_embeddings)"
   ]
  },
  {
   "cell_type": "code",
   "execution_count": null,
   "id": "4da7a580",
   "metadata": {},
   "outputs": [],
   "source": []
  }
 ],
 "metadata": {
  "kernelspec": {
   "display_name": "Python (llamaM1)",
   "language": "python",
   "name": "llamam1"
  },
  "language_info": {
   "codemirror_mode": {
    "name": "ipython",
    "version": 3
   },
   "file_extension": ".py",
   "mimetype": "text/x-python",
   "name": "python",
   "nbconvert_exporter": "python",
   "pygments_lexer": "ipython3",
   "version": "3.9.16"
  }
 },
 "nbformat": 4,
 "nbformat_minor": 5
}
